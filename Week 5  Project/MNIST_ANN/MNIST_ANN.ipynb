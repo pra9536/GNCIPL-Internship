{
  "cells": [
    {
      "cell_type": "code",
      "execution_count": 3,
      "metadata": {
        "id": "o9zphadPaTEz"
      },
      "outputs": [],
      "source": [
        "import numpy as np\n",
        "import matplotlib.pyplot as plt\n",
        "from tensorflow.keras.datasets import mnist\n",
        "from tensorflow.keras.models import Sequential\n",
        "from tensorflow.keras.layers import Dense, Flatten\n",
        "from tensorflow.keras.utils import to_categorical\n"
      ]
    },
    {
      "cell_type": "code",
      "execution_count": 5,
      "metadata": {
        "colab": {
          "base_uri": "https://localhost:8080/",
          "height": 643
        },
        "id": "lSgtiatca0tF",
        "outputId": "4a053987-9f02-4adb-d8b3-1fb2151ab09b"
      },
      "outputs": [
        {
          "name": "stdout",
          "output_type": "stream",
          "text": [
            "Training data shape: (60000, 28, 28)\n",
            "Test data shape: (10000, 28, 28)\n",
            "\n",
            "Sample labels (y_train): [5 0 4 1 9 2 1 3 1 4]\n",
            "\n",
            "Head (first 5 labels):\n",
            "   Label\n",
            "0      5\n",
            "1      0\n",
            "2      4\n",
            "3      1\n",
            "4      9\n",
            "\n",
            "Describe (label distribution in first 20 samples):\n",
            "           Label\n",
            "count  20.000000\n",
            "mean    4.000000\n",
            "std     2.790963\n",
            "min     0.000000\n",
            "25%     1.750000\n",
            "50%     3.500000\n",
            "75%     6.000000\n",
            "max     9.000000\n"
          ]
        },
        {
          "data": {
            "image/png": "[encoded data removed]",
            "text/plain": [
              "<Figure size 1000x200 with 5 Axes>"
            ]
          },
          "metadata": {},
          "output_type": "display_data"
        },
        {
          "name": "stdout",
          "output_type": "stream",
          "text": [
            "\n",
            "After one-hot encoding:\n",
            "y_train[0]: [0. 0. 0. 0. 0. 1. 0. 0. 0. 0.]\n"
          ]
        }
      ],
      "source": [
        "import pandas as pd\n",
        "(x_train, y_train), (x_test, y_test) = mnist.load_data()\n",
        "\n",
        "print(\"Training data shape:\", x_train.shape)\n",
        "print(\"Test data shape:\", x_test.shape)\n",
        "\n",
        "print(\"\\nSample labels (y_train):\", y_train[:10])\n",
        "\n",
        "df = pd.DataFrame({\"Label\": y_train[:20]})\n",
        "print(\"\\nHead (first 5 labels):\")\n",
        "print(df.head())\n",
        "\n",
        "print(\"\\nDescribe (label distribution in first 20 samples):\")\n",
        "print(df.describe())\n",
        "\n",
        "plt.figure(figsize=(10,2))\n",
        "for i in range(5):\n",
        "    plt.subplot(1,5,i+1)\n",
        "    plt.imshow(x_train[i], cmap='gray')\n",
        "    plt.title(f\"Label: {y_train[i]}\")\n",
        "    plt.axis(\"off\")\n",
        "plt.show()\n",
        "\n",
        "x_train = x_train / 255.0\n",
        "x_test = x_test / 255.0\n",
        "\n",
        "y_train = to_categorical(y_train, 10)\n",
        "y_test = to_categorical(y_test, 10)\n",
        "\n",
        "print(\"\\nAfter one-hot encoding:\")\n",
        "print(\"y_train[0]:\", y_train[0])\n"
      ]
    },
    {
      "cell_type": "code",
      "execution_count": 6,
      "metadata": {
        "id": "nu-4-UhHfOw_"
      },
      "outputs": [
        {
          "name": "stderr",
          "output_type": "stream",
          "text": [
            "C:\\Users\\HP\\AppData\\Roaming\\Python\\Python312\\site-packages\\keras\\src\\layers\\reshaping\\flatten.py:37: UserWarning: Do not pass an `input_shape`/`input_dim` argument to a layer. When using Sequential models, prefer using an `Input(shape)` object as the first layer in the model instead.\n",
            "  super().__init__(**kwargs)\n"
          ]
        }
      ],
      "source": [
        "model = Sequential([\n",
        "    Flatten(input_shape=(28, 28)),\n",
        "    Dense(128, activation='relu'),\n",
        "    Dense(64, activation='relu'),\n",
        "    Dense(10, activation='softmax')\n",
        "])\n"
      ]
    },
    {
      "cell_type": "code",
      "execution_count": null,
      "metadata": {
        "id": "t34qcqF7a6oY"
      },
      "outputs": [],
      "source": []
    },
    {
      "cell_type": "code",
      "execution_count": 8,
      "metadata": {
        "colab": {
          "base_uri": "https://localhost:8080/"
        },
        "id": "3quFwSfDbVfl",
        "outputId": "706ea87b-d31b-4f81-e944-55663e2c10aa"
      },
      "outputs": [
        {
          "name": "stdout",
          "output_type": "stream",
          "text": [
            "Epoch 1/10\n",
            "469/469 - 3s - 7ms/step - accuracy: 0.9089 - loss: 0.3234 - val_accuracy: 0.9525 - val_loss: 0.1563\n",
            "Epoch 2/10\n",
            "469/469 - 2s - 4ms/step - accuracy: 0.9622 - loss: 0.1301 - val_accuracy: 0.9649 - val_loss: 0.1162\n",
            "Epoch 3/10\n",
            "469/469 - 3s - 5ms/step - accuracy: 0.9735 - loss: 0.0911 - val_accuracy: 0.9697 - val_loss: 0.0963\n",
            "Epoch 4/10\n",
            "469/469 - 3s - 6ms/step - accuracy: 0.9794 - loss: 0.0696 - val_accuracy: 0.9731 - val_loss: 0.0864\n",
            "Epoch 5/10\n",
            "469/469 - 2s - 4ms/step - accuracy: 0.9835 - loss: 0.0550 - val_accuracy: 0.9726 - val_loss: 0.0867\n",
            "Epoch 6/10\n",
            "469/469 - 2s - 5ms/step - accuracy: 0.9865 - loss: 0.0441 - val_accuracy: 0.9768 - val_loss: 0.0794\n",
            "Epoch 7/10\n",
            "469/469 - 3s - 5ms/step - accuracy: 0.9885 - loss: 0.0369 - val_accuracy: 0.9762 - val_loss: 0.0752\n",
            "Epoch 8/10\n",
            "469/469 - 2s - 5ms/step - accuracy: 0.9905 - loss: 0.0300 - val_accuracy: 0.9757 - val_loss: 0.0843\n",
            "Epoch 9/10\n",
            "469/469 - 2s - 5ms/step - accuracy: 0.9919 - loss: 0.0257 - val_accuracy: 0.9784 - val_loss: 0.0781\n",
            "Epoch 10/10\n",
            "469/469 - 3s - 6ms/step - accuracy: 0.9941 - loss: 0.0194 - val_accuracy: 0.9728 - val_loss: 0.1010\n"
          ]
        }
      ],
      "source": [
        "# Assuming your model is already defined\n",
        "# For example: model = Sequential([...])\n",
        "\n",
        "# 1. COMPILE the model (This is the missing step)\n",
        "model.compile(optimizer='adam',\n",
        "              loss='categorical_crossentropy',\n",
        "              metrics=['accuracy'])\n",
        "\n",
        "# 2. Now you can FIT (train) the model\n",
        "history = model.fit(x_train, y_train,\n",
        "                    validation_data=(x_test, y_test),\n",
        "                    epochs=10,\n",
        "                    batch_size=128,\n",
        "                    verbose=2)"
      ]
    },
    {
      "cell_type": "code",
      "execution_count": 9,
      "metadata": {
        "colab": {
          "base_uri": "https://localhost:8080/"
        },
        "id": "iL-zpG_KbXwi",
        "outputId": "7253a841-9482-4783-bf09-10199e0a1e49"
      },
      "outputs": [
        {
          "name": "stdout",
          "output_type": "stream",
          "text": [
            ":Accuracy: 0.9728\n"
          ]
        }
      ],
      "source": [
        "test_loss, test_acc = model.evaluate(x_test, y_test, verbose=0)\n",
        "print(f\":Accuracy: {test_acc:.4f}\")\n"
      ]
    },
    {
      "cell_type": "code",
      "execution_count": 10,
      "metadata": {
        "colab": {
          "base_uri": "https://localhost:8080/",
          "height": 846
        },
        "id": "0RkbUr4yfXeK",
        "outputId": "1baf94aa-50d3-4e31-9ab6-ff23fb1ee4d8"
      },
      "outputs": [
        {
          "name": "stdout",
          "output_type": "stream",
          "text": [
            "\u001b[1m1/1\u001b[0m \u001b[32m━━━━━━━━━━━━━━━━━━━━\u001b[0m\u001b[37m\u001b[0m \u001b[1m0s\u001b[0m 53ms/step\n"
          ]
        },
        {
          "data": {
            "image/png": "[encoded data removed]",
            "text/plain": [
              "<Figure size 1000x1000 with 9 Axes>"
            ]
          },
          "metadata": {},
          "output_type": "display_data"
        }
      ],
      "source": [
        "predictions = model.predict(x_test[:9])\n",
        "\n",
        "plt.figure(figsize=(10,10))\n",
        "for i in range(9):\n",
        "    plt.subplot(3,3,i+1)\n",
        "    plt.imshow(x_test[i], cmap='gray')\n",
        "    plt.title(f\"Pred: {np.argmax(predictions[i])}\")\n",
        "    plt.axis('off')\n",
        "plt.show()"
      ]
    },
    {
      "cell_type": "code",
      "execution_count": null,
      "metadata": {
        "id": "QKpyrDXUgkWO"
      },
      "outputs": [],
      "source": []
    }
  ],
  "metadata": {
    "colab": {
      "provenance": []
    },
    "kernelspec": {
      "display_name": "base",
      "language": "python",
      "name": "python3"
    },
    "language_info": {
      "codemirror_mode": {
        "name": "ipython",
        "version": 3
      },
      "file_extension": ".py",
      "mimetype": "text/x-python",
      "name": "python",
      "nbconvert_exporter": "python",
      "pygments_lexer": "ipython3",
      "version": "3.12.7"
    }
  },
  "nbformat": 4,
  "nbformat_minor": 0
}
